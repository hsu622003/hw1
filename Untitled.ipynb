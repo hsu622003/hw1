{
 "cells": [
  {
   "cell_type": "code",
   "execution_count": 4,
   "metadata": {},
   "outputs": [
    {
     "name": "stdout",
     "output_type": "stream",
     "text": [
      "height= 23.5\n",
      "weight= 19\n",
      "perimeter= 21.25\n",
      "area= 446.5\n"
     ]
    }
   ],
   "source": [
    "height = 23.5\n",
    "weight = 19\n",
    "\n",
    "print('height=', height)\n",
    "print('weight=', weight)\n",
    "print('perimeter=', (height+weight)/2)\n",
    "print('area=', height*weight)"
   ]
  },
  {
   "cell_type": "code",
   "execution_count": 5,
   "metadata": {},
   "outputs": [
    {
     "name": "stdout",
     "output_type": "stream",
     "text": [
      "enter your length:30\n",
      "height= 25.980762113533157\n",
      "area= 389.71143170299734\n"
     ]
    }
   ],
   "source": [
    "s = eval(input('enter your length:'))\n",
    "print('height=',(3**(1/2))/2*s)\n",
    "print('area=',(3**(1/2))/4*s**2)"
   ]
  },
  {
   "cell_type": "code",
   "execution_count": 6,
   "metadata": {},
   "outputs": [
    {
     "name": "stdout",
     "output_type": "stream",
     "text": [
      "10.8\n"
     ]
    }
   ],
   "source": [
    "x = 10\n",
    "y = 25\n",
    "z = 3\n",
    "speed = (z/1.6)/(x/60+y/3600)\n",
    "print(speed)\n"
   ]
  },
  {
   "cell_type": "code",
   "execution_count": null,
   "metadata": {},
   "outputs": [],
   "source": []
  }
 ],
 "metadata": {
  "kernelspec": {
   "display_name": "Python 3",
   "language": "python",
   "name": "python3"
  },
  "language_info": {
   "codemirror_mode": {
    "name": "ipython",
    "version": 3
   },
   "file_extension": ".py",
   "mimetype": "text/x-python",
   "name": "python",
   "nbconvert_exporter": "python",
   "pygments_lexer": "ipython3",
   "version": "3.7.3"
  }
 },
 "nbformat": 4,
 "nbformat_minor": 2
}
